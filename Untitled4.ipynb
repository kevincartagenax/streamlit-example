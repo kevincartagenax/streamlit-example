{
  "nbformat": 4,
  "nbformat_minor": 0,
  "metadata": {
    "colab": {
      "provenance": [],
      "authorship_tag": "ABX9TyMZbD+wS4v6E0aHak2+Yg6H",
      "include_colab_link": true
    },
    "kernelspec": {
      "name": "python3",
      "display_name": "Python 3"
    },
    "language_info": {
      "name": "python"
    }
  },
  "cells": [
    {
      "cell_type": "markdown",
      "metadata": {
        "id": "view-in-github",
        "colab_type": "text"
      },
      "source": [
        "<a href=\"https://colab.research.google.com/github/kevincartagenax/streamlit-example/blob/master/Untitled4.ipynb\" target=\"_parent\"><img src=\"https://colab.research.google.com/assets/colab-badge.svg\" alt=\"Open In Colab\"/></a>"
      ]
    },
    {
      "cell_type": "code",
      "source": [
        "import pandas as pd"
      ],
      "metadata": {
        "id": "qiB5zltUFm64"
      },
      "execution_count": 1,
      "outputs": []
    },
    {
      "cell_type": "code",
      "source": [
        "data = pd.read_csv(\"https://docs.google.com/spreadsheets/d/e/2PACX-1vQP6A2YWeyi07jt8Jr7EyDSUYD6V5DRHLZhJJabyjAiAKA2bmEJ5kFd-yxhHN0n041z9Ov1i2JS95or/pub?gid=340736133&single=true&output=csv\")"
      ],
      "metadata": {
        "id": "M_ChXKV_M1Cg"
      },
      "execution_count": 2,
      "outputs": []
    },
    {
      "cell_type": "code",
      "source": [
        "data = pd.DataFrame({\n",
        "    'id_persona': [1, 2, 3, 4, 5],\n",
        "    'Edad': [25, 30, 42, 35, 28],\n",
        "    'Tipo_edad': ['Años', 'Años', 'Años', 'Años', 'Años'],\n",
        "    'Sexo': ['M', 'F', 'M', 'F', 'M'],\n",
        "    'id_ubigeo': [150101, 150203, 150305, 150407, 150509],\n",
        "    'Fecha_atencion': ['2022-01-01', '2022-02-15', '2022-03-10', '2022-04-20', '2022-05-05'],\n",
        "    'Diagnostico': ['Anemia', 'No anemia', 'Anemia', 'No anemia', 'Anemia'],\n",
        "    'Tipo_Dx': ['Dx1', 'Dx2', 'Dx1', 'Dx2', 'Dx1'],\n",
        "    'id_eess': [1001, 1002, 1003, 1004, 1005]\n",
        "})\n",
        "\n",
        "# Cálculo de la matriz de correlación de Pearson\n",
        "correlation_matrix = data.corr(method='pearson')\n",
        "\n",
        "print(\"Matriz de correlación de Pearson:\")\n",
        "print(correlation_matrix)"
      ],
      "metadata": {
        "colab": {
          "base_uri": "https://localhost:8080/"
        },
        "id": "t9fDUo5UURUV",
        "outputId": "e391d823-8e10-449a-9d36-d76725f794d9"
      },
      "execution_count": 4,
      "outputs": [
        {
          "output_type": "stream",
          "name": "stdout",
          "text": [
            "Matriz de correlación de Pearson:\n",
            "            id_persona      Edad  id_ubigeo   id_eess\n",
            "id_persona    1.000000  0.260725   1.000000  1.000000\n",
            "Edad          0.260725  1.000000   0.260725  0.260725\n",
            "id_ubigeo     1.000000  0.260725   1.000000  1.000000\n",
            "id_eess       1.000000  0.260725   1.000000  1.000000\n"
          ]
        },
        {
          "output_type": "stream",
          "name": "stderr",
          "text": [
            "<ipython-input-4-564a78696e64>:14: FutureWarning: The default value of numeric_only in DataFrame.corr is deprecated. In a future version, it will default to False. Select only valid columns or specify the value of numeric_only to silence this warning.\n",
            "  correlation_matrix = data.corr(method='pearson')\n"
          ]
        }
      ]
    }
  ]
}